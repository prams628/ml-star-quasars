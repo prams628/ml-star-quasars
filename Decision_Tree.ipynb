{
 "cells": [
  {
   "cell_type": "code",
   "execution_count": 1,
   "metadata": {},
   "outputs": [],
   "source": [
    "from pandas import read_csv, cut\n",
    "from numpy import array, unique, log2, inf, append, where, square, random, concatenate\n",
    "from sklearn.model_selection import train_test_split\n",
    "from sklearn.utils import resample\n",
    "import time\n",
    "from pprint import pprint"
   ]
  },
  {
   "cell_type": "code",
   "execution_count": 2,
   "metadata": {},
   "outputs": [],
   "source": [
    "file_path = '../cat4.csv'\n",
    "df = read_csv(file_path)\n",
    "df.head()\n",
    "y = array(df['class'])\n",
    "# df = df.rename(columns={\"class\": \"label\"})\n",
    "if 'cat2.csv' in file_path:\n",
    "    df.drop(\"Unnamed: 0.1\", axis=1, inplace=True)\n",
    "df.drop([\"Unnamed: 0\", \"galex_objid\", \"sdss_objid\", \"spectrometric_redshift\", \"pred\"], axis=1, inplace=True)"
   ]
  },
  {
   "cell_type": "code",
   "execution_count": 3,
   "metadata": {},
   "outputs": [
    {
     "data": {
      "text/plain": [
       "1    23389\n",
       "0    10074\n",
       "Name: class, dtype: int64"
      ]
     },
     "execution_count": 3,
     "metadata": {},
     "output_type": "execute_result"
    }
   ],
   "source": [
    "df['class'].value_counts()"
   ]
  },
  {
   "cell_type": "code",
   "execution_count": 4,
   "metadata": {},
   "outputs": [],
   "source": [
    "def under_sampling(df):\n",
    "    min_class_len = len(df[df['class'] == 0])\n",
    "    major_class_ind = df[df['class'] == 1].index\n",
    "    rand_maj_ind = random.choice(major_class_ind, min_class_len, replace = False)\n",
    "\n",
    "    min_class_ind = df[df['class'] == 0].index\n",
    "    under_sample_ind = concatenate([min_class_ind,rand_maj_ind])\n",
    "    under_sample = df.loc[under_sample_ind]\n",
    "    \n",
    "    return under_sample\n",
    "\n",
    "under_sample = under_sampling(df)"
   ]
  },
  {
   "cell_type": "code",
   "execution_count": 5,
   "metadata": {},
   "outputs": [],
   "source": [
    "def bucketize(dataframe, col_headers, bucket_size):\n",
    "    assert len(col_headers) == len(bucket_size)\n",
    "    no_of_columns = len(col_headers)\n",
    "    for col in range(no_of_columns):\n",
    "        labels = array([(x + 1) for x in range(bucket_size[col])])\n",
    "        temp = cut(dataframe[col_headers[col]], bucket_size[col], labels=labels)\n",
    "        dataframe.drop(col_headers[col], inplace=True, axis=1)\n",
    "        dataframe[col_headers[col]] = temp\n",
    "    return dataframe\n",
    "\n",
    "# y = array(df['class'])\n",
    "# df.drop('class', inplace=True, axis=1)\n",
    "# temp = bucketize(df, df.columns, [7 for x in range(len(df.columns))])\n",
    "\n",
    "y = array(under_sample['class'])\n",
    "under_sample.drop('class', inplace=True, axis=1)\n",
    "temp = bucketize(under_sample, under_sample.columns, [7 for x in range(len(under_sample.columns))])"
   ]
  },
  {
   "cell_type": "code",
   "execution_count": 6,
   "metadata": {},
   "outputs": [],
   "source": [
    "# X = array(df)\n",
    "# X_train, X_test, y_train, y_test = train_test_split(X, y, test_size=0.3, random_state=42)\n",
    "\n",
    "X = array(under_sample)\n",
    "X_train, X_test, y_train, y_test = train_test_split(X, y, test_size=0.3, random_state=42)"
   ]
  },
  {
   "cell_type": "code",
   "execution_count": 7,
   "metadata": {},
   "outputs": [],
   "source": [
    "class DecisionTree:\n",
    "    \n",
    "    def __init__(self, max_depth=5, min_samples=2):\n",
    "        self.counter = 0\n",
    "        self.max_depth = max_depth\n",
    "        self.min_samples = min_samples\n",
    "        \n",
    "    def check_purity(self, y):\n",
    "        if len(unique(y)) == 1:\n",
    "            return True\n",
    "        else:\n",
    "            return False\n",
    "        \n",
    "    def classify_data(self, y):\n",
    "        unique_classes, counts_unique_classes = unique(y, return_counts=True)\n",
    "\n",
    "        index = where(counts_unique_classes == max(counts_unique_classes))[0][0]\n",
    "        classification = unique_classes[index]\n",
    "\n",
    "        return classification\n",
    "    \n",
    "    def get_potential_splits(self, X):\n",
    "    \n",
    "        potential_splits = {}\n",
    "        n_columns = len(X[0])\n",
    "        for column_index in range(n_columns):  \n",
    "            potential_splits[column_index] = []\n",
    "            values = X[:, column_index]\n",
    "            unique_values = unique(values)\n",
    "\n",
    "            for index in range(1, len(unique_values)):\n",
    "                current_value = unique_values[index]\n",
    "                previous_value = unique_values[index - 1]\n",
    "                potential_split = (current_value + previous_value) / 2\n",
    "\n",
    "                potential_splits[column_index].append(potential_split)\n",
    "\n",
    "        return potential_splits\n",
    "    \n",
    "    def split_data(self, X, y, split_column, split_value):\n",
    "    \n",
    "        no_of_columns = len(X[0]) + 1\n",
    "        split_column_values = X[:, split_column]\n",
    "        data = append(X, y.reshape(len(X), 1), axis=1)\n",
    "        data_below = data[data[:, split_column] < split_value]\n",
    "        data_above = data[data[:, split_column] >= split_value]\n",
    "\n",
    "        return data_below, data_above\n",
    "    \n",
    "    def calculate_entropy(self, label_column):\n",
    "\n",
    "        _, counts = unique(label_column, return_counts=True)\n",
    "        probabilities = counts / counts.sum()\n",
    "        return 1 - sum(square(probabilities))\n",
    "    \n",
    "    def calculate_overall_entropy(self, data_below, data_above):\n",
    "    \n",
    "        n = len(data_below) + len(data_above)\n",
    "        p_data_below = len(data_below) / n\n",
    "        p_data_above = len(data_above) / n\n",
    "\n",
    "        overall_entropy =  (p_data_below * self.calculate_entropy(data_below[:, -1]) \n",
    "                          + p_data_above * self.calculate_entropy(data_above[:, -1]))\n",
    "\n",
    "        return overall_entropy\n",
    "    \n",
    "    def determine_best_split(self, X, y, potential_splits):    \n",
    "        overall_entropy = inf\n",
    "        for column_index in potential_splits:\n",
    "            for value in potential_splits[column_index]:\n",
    "                data_below, data_above = self.split_data(X, y, split_column=column_index, split_value=value)\n",
    "                current_overall_entropy = self.calculate_overall_entropy(data_below, data_above)\n",
    "\n",
    "                if current_overall_entropy <= overall_entropy:\n",
    "                    overall_entropy = current_overall_entropy\n",
    "                    best_split_column = column_index\n",
    "                    best_split_value = value\n",
    "\n",
    "        return best_split_column, best_split_value\n",
    "    \n",
    "    def build_tree(self, X, y):\n",
    "        if (self.check_purity(y)) or (len(X) < self.min_samples) or (self.counter == self.max_depth):\n",
    "            classification = self.classify_data(y)\n",
    "\n",
    "            return classification\n",
    "\n",
    "\n",
    "        # recursive part\n",
    "        else:    \n",
    "            self.counter += 1\n",
    "\n",
    "            # helper functions \n",
    "            potential_splits = self.get_potential_splits(X)\n",
    "            split_column, split_value = self.determine_best_split(X, y, potential_splits)\n",
    "            data_below, data_above = self.split_data(X, y, split_column, split_value)\n",
    "\n",
    "            question = \"column_{} <= {}\".format(split_column, split_value)\n",
    "            sub_tree = {question: []}\n",
    "\n",
    "            # find answers (recursion)\n",
    "            yes_answer = self.build_tree(data_below[:, :-1], data_below[:, -1])\n",
    "            no_answer = self.build_tree(data_above[:, :-1], data_above[:, -1])\n",
    "\n",
    "            # If the answers are the same, then there is no point in asking the qestion.\n",
    "            # This could happen when the data is classified even though it is not pure\n",
    "            # yet (min_samples or max_depth base case).\n",
    "            if yes_answer == no_answer:\n",
    "                sub_tree = yes_answer\n",
    "            else:\n",
    "                sub_tree[question].append(yes_answer)\n",
    "                sub_tree[question].append(no_answer)\n",
    "\n",
    "            return sub_tree\n",
    "    \n",
    "    def fit(self, X, y):\n",
    "        \n",
    "        start_time = time.time()\n",
    "        tree = self.build_tree(X, y)\n",
    "        end_time = time.time()\n",
    "        print(\"Time taken to construct the decision tree =\", end_time - start_time)\n",
    "        return tree\n",
    "    \n",
    "    def classify_example(self, example, tree):\n",
    "        question = list(tree.keys())[0]\n",
    "        feature_name, comparison_operator, value = question.split(\" \")\n",
    "        x = int(feature_name.split(\"_\")[1])\n",
    "\n",
    "        # ask question\n",
    "        if example[x] <= float(value):\n",
    "            answer = tree[question][0]\n",
    "        else:\n",
    "            answer = tree[question][1]\n",
    "\n",
    "        # when at leaf node\n",
    "        if type(answer) != dict:\n",
    "            return answer\n",
    "\n",
    "        # when at an internal node\n",
    "        else:\n",
    "            residual_tree = answer\n",
    "            return self.classify_example(example, residual_tree)\n",
    "    \n",
    "    def predict(self, X_test, tree):\n",
    "        predictions = array([])\n",
    "        for example in X_test:\n",
    "            predictions = append(predictions, self.classify_example(example, tree))\n",
    "\n",
    "        return predictions"
   ]
  },
  {
   "cell_type": "code",
   "execution_count": 8,
   "metadata": {},
   "outputs": [
    {
     "name": "stdout",
     "output_type": "stream",
     "text": [
      "Time taken to construct the decision tree = 2.763608932495117\n"
     ]
    }
   ],
   "source": [
    "tree = DecisionTree(max_depth=5)\n",
    "\n",
    "decision_tree = tree.fit(X_train, y_train)\n",
    "predictions = tree.predict(X_test, decision_tree)"
   ]
  },
  {
   "cell_type": "code",
   "execution_count": 9,
   "metadata": {},
   "outputs": [
    {
     "name": "stdout",
     "output_type": "stream",
     "text": [
      "             precision    recall  f1-score   support\n",
      "\n",
      "          0       0.69      0.79      0.74      3024\n",
      "          1       0.76      0.64      0.69      3021\n",
      "\n",
      "avg / total       0.72      0.72      0.72      6045\n",
      "\n"
     ]
    }
   ],
   "source": [
    "from sklearn.metrics import classification_report\n",
    "print(classification_report(y_test, predictions))"
   ]
  }
 ],
 "metadata": {
  "kernelspec": {
   "display_name": "Python 3",
   "language": "python",
   "name": "python3"
  },
  "language_info": {
   "codemirror_mode": {
    "name": "ipython",
    "version": 3
   },
   "file_extension": ".py",
   "mimetype": "text/x-python",
   "name": "python",
   "nbconvert_exporter": "python",
   "pygments_lexer": "ipython3",
   "version": "3.6.5"
  }
 },
 "nbformat": 4,
 "nbformat_minor": 4
}
