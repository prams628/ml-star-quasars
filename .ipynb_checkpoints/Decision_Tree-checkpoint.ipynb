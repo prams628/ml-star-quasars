{
 "cells": [
  {
   "cell_type": "code",
   "execution_count": 21,
   "metadata": {},
   "outputs": [],
   "source": [
    "from pandas import read_csv, cut\n",
    "from numpy import array, unique, log2, inf, append, where, square\n",
    "from sklearn.model_selection import train_test_split\n",
    "import random\n",
    "from pprint import pprint"
   ]
  },
  {
   "cell_type": "code",
   "execution_count": 3,
   "metadata": {},
   "outputs": [],
   "source": [
    "file_path = '../catalog1/cat1.csv'\n",
    "df = read_csv(file_path)\n",
    "df.head()\n",
    "y = array(df['class'])\n",
    "# df = df.rename(columns={\"class\": \"label\"})\n",
    "if 'cat2.csv' in file_path:\n",
    "    df.drop(\"Unnamed: 0.1\", axis=1, inplace=True)\n",
    "df.drop([\"Unnamed: 0\", \"galex_objid\", \"sdss_objid\", \"class\", \"spectrometric_redshift\", \"pred\"], axis=1, inplace=True)"
   ]
  },
  {
   "cell_type": "code",
   "execution_count": 4,
   "metadata": {},
   "outputs": [],
   "source": [
    "def bucketize(dataframe, col_headers, bucket_size):\n",
    "    assert len(col_headers) == len(bucket_size)\n",
    "    no_of_columns = len(col_headers)\n",
    "    for col in range(no_of_columns):\n",
    "        labels = array([(x + 1) for x in range(bucket_size[col])])\n",
    "        temp = cut(dataframe[col_headers[col]], bucket_size[col], labels=labels)\n",
    "        dataframe.drop(col_headers[col], inplace=True, axis=1)\n",
    "        dataframe[col_headers[col]] = temp\n",
    "    return dataframe\n",
    "temp = bucketize(df, df.columns, [4 for x in range(len(df.columns))])"
   ]
  },
  {
   "cell_type": "code",
   "execution_count": 5,
   "metadata": {},
   "outputs": [],
   "source": [
    "X = array(df)\n",
    "X_train, X_test, y_train, y_test = train_test_split(X, y, test_size=0.3, random_state=42)"
   ]
  },
  {
   "cell_type": "code",
   "execution_count": 6,
   "metadata": {},
   "outputs": [],
   "source": [
    "def check_purity(y):\n",
    "    if len(unique(y)) == 1:\n",
    "        return True\n",
    "    else:\n",
    "        return False"
   ]
  },
  {
   "cell_type": "code",
   "execution_count": 7,
   "metadata": {},
   "outputs": [],
   "source": [
    "def classify_data(y):\n",
    "    unique_classes, counts_unique_classes = unique(y, return_counts=True)\n",
    "\n",
    "    index = where(counts_unique_classes == max(counts_unique_classes))[0][0]\n",
    "    classification = unique_classes[index]\n",
    "    \n",
    "    return classification"
   ]
  },
  {
   "cell_type": "code",
   "execution_count": 29,
   "metadata": {},
   "outputs": [],
   "source": [
    "def get_potential_splits(X, y):\n",
    "    \n",
    "    potential_splits = {}\n",
    "    #n_columns = len(X[0])\n",
    "    for column_index in range(len(X[0])):  \n",
    "        potential_splits[column_index] = []\n",
    "        values = X[:, column_index]\n",
    "        unique_values = unique(values)\n",
    "\n",
    "        for index in range(1, len(unique_values)):\n",
    "            current_value = unique_values[index]\n",
    "            previous_value = unique_values[index - 1]\n",
    "            potential_split = (current_value + previous_value) / 2\n",
    "\n",
    "            potential_splits[column_index].append(potential_split)\n",
    "    \n",
    "    return potential_splits"
   ]
  },
  {
   "cell_type": "code",
   "execution_count": 9,
   "metadata": {},
   "outputs": [],
   "source": [
    "def split_data(X, y, split_column, split_value):\n",
    "    \n",
    "    no_of_columns = len(X[0]) + 1\n",
    "    split_column_values = X[:, split_column]\n",
    "    data = append(X, y.reshape(len(X), 1), axis=1)\n",
    "#     data_below = data_above = array([]).reshape(0, no_of_columns)\n",
    "#     print(\"len(X) in function split_data:\", len(X))\n",
    "#     for index in range(len(X)):\n",
    "#         temp = array(append(X[index], y[index])).reshape(1, no_of_columns)\n",
    "#         if split_column_values[index] <= split_value:\n",
    "#             data_below = append(data_below, temp, axis=0)\n",
    "#         else:\n",
    "#             data_above = append(data_above, temp, axis=0)\n",
    "    data_below = data[data[:, split_column] < split_value]\n",
    "    data_above = data[data[:, split_column] >= split_value]\n",
    "    \n",
    "    return data_below, data_above"
   ]
  },
  {
   "cell_type": "code",
   "execution_count": 18,
   "metadata": {},
   "outputs": [],
   "source": [
    "def calculate_entropy(label_column):\n",
    "    \n",
    "#     print(data)\n",
    "    _, counts = unique(label_column, return_counts=True)\n",
    "\n",
    "    probabilities = counts / counts.sum()\n",
    "     \n",
    "    return 1 - sum(square(probabilities))"
   ]
  },
  {
   "cell_type": "code",
   "execution_count": 19,
   "metadata": {},
   "outputs": [],
   "source": [
    "def calculate_overall_entropy(data_below, data_above):\n",
    "    \n",
    "    n = len(data_below) + len(data_above)\n",
    "    p_data_below = len(data_below) / n\n",
    "    p_data_above = len(data_above) / n\n",
    "\n",
    "    overall_entropy =  (p_data_below * calculate_entropy(data_below[:, -1]) \n",
    "                      + p_data_above * calculate_entropy(data_above[:, -1]))\n",
    "    \n",
    "    return overall_entropy"
   ]
  },
  {
   "cell_type": "code",
   "execution_count": 12,
   "metadata": {},
   "outputs": [],
   "source": [
    "def determine_best_split(X, y, potential_splits):    \n",
    "    overall_entropy = inf\n",
    "    for column_index in potential_splits:\n",
    "        for value in potential_splits[column_index]:\n",
    "            data_below, data_above = split_data(X, y, split_column=column_index, split_value=value)\n",
    "            current_overall_entropy = calculate_overall_entropy(data_below, data_above)\n",
    "\n",
    "            if current_overall_entropy <= overall_entropy:\n",
    "                overall_entropy = current_overall_entropy\n",
    "                best_split_column = column_index\n",
    "                best_split_value = value\n",
    "    \n",
    "    return best_split_column, best_split_value"
   ]
  },
  {
   "cell_type": "code",
   "execution_count": 13,
   "metadata": {},
   "outputs": [],
   "source": [
    "def decision_tree_algorithm(X, y, column_headers, max_depth, counter=0, min_samples=2):\n",
    "   \n",
    "        \n",
    "    if (check_purity(y)) or (len(X) < min_samples) or (counter == max_depth):\n",
    "        classification = classify_data(y)\n",
    "        \n",
    "        return classification\n",
    "\n",
    "    \n",
    "    # recursive part\n",
    "    else:    \n",
    "        counter += 1\n",
    "\n",
    "        # helper functions \n",
    "        potential_splits = get_potential_splits(X, y)\n",
    "        split_column, split_value = determine_best_split(X, y, potential_splits)\n",
    "        data_below, data_above = split_data(X, y, split_column, split_value)\n",
    "    \n",
    "        feature_name = column_headers[split_column]\n",
    "        question = \"column_{} <= {}\".format(split_column, split_value)\n",
    "        sub_tree = {question: []}\n",
    "        \n",
    "        # find answers (recursion)\n",
    "        yes_answer = decision_tree_algorithm(data_below[:, :-1], data_below[:, -1], column_headers, max_depth, counter, min_samples)\n",
    "        no_answer = decision_tree_algorithm(data_above[:, :-1], data_above[:, -1], column_headers, max_depth, counter, min_samples)\n",
    "        \n",
    "        # If the answers are the same, then there is no point in asking the qestion.\n",
    "        # This could happen when the data is classified even though it is not pure\n",
    "        # yet (min_samples or max_depth base case).\n",
    "        if yes_answer == no_answer:\n",
    "            sub_tree = yes_answer\n",
    "        else:\n",
    "            sub_tree[question].append(yes_answer)\n",
    "            sub_tree[question].append(no_answer)\n",
    "        \n",
    "        return sub_tree"
   ]
  },
  {
   "cell_type": "code",
   "execution_count": 30,
   "metadata": {},
   "outputs": [
    {
     "name": "stdout",
     "output_type": "stream",
     "text": [
      "{'column_23 <= 1.5': [{'column_28 <= 2.5': [1, 0]},\n",
      "                      {'column_30 <= 1.5': [{'column_27 <= 2.5': [0, 1]}, 1]}]}\n",
      "Time taken to construct the decision tree = 0.29285550117492676\n"
     ]
    }
   ],
   "source": [
    "import time\n",
    "start_time = time.time()\n",
    "tree = decision_tree_algorithm(X_train, y_train, column_headers=df.columns, max_depth=3)\n",
    "end_time = time.time()\n",
    "pprint(tree)\n",
    "print(\"Time taken to construct the decision tree =\", end_time - start_time)"
   ]
  },
  {
   "cell_type": "code",
   "execution_count": 15,
   "metadata": {},
   "outputs": [],
   "source": [
    "def classify_example(example, tree):\n",
    "    question = list(tree.keys())[0]\n",
    "    feature_name, comparison_operator, value = question.split(\" \")\n",
    "    x = int(feature_name.split(\"_\")[1])\n",
    "    \n",
    "    # ask question\n",
    "    if example[x] <= float(value):\n",
    "        answer = tree[question][0]\n",
    "    else:\n",
    "        answer = tree[question][1]\n",
    "\n",
    "    # base case\n",
    "    if not isinstance(answer, dict):\n",
    "        return answer\n",
    "    \n",
    "    # recursive part\n",
    "    else:\n",
    "        residual_tree = answer\n",
    "        return classify_example(example, residual_tree)"
   ]
  },
  {
   "cell_type": "code",
   "execution_count": 16,
   "metadata": {},
   "outputs": [],
   "source": [
    "def predict(X_test, tree):\n",
    "    predictions = array([])\n",
    "    for example in X_test:\n",
    "        predictions = append(predictions, classify_example(example, tree))\n",
    "    \n",
    "    return predictions"
   ]
  },
  {
   "cell_type": "code",
   "execution_count": 31,
   "metadata": {},
   "outputs": [
    {
     "name": "stdout",
     "output_type": "stream",
     "text": [
      "              precision    recall  f1-score   support\n",
      "\n",
      "           0       1.00      0.61      0.76        18\n",
      "           1       0.96      1.00      0.98       177\n",
      "\n",
      "    accuracy                           0.96       195\n",
      "   macro avg       0.98      0.81      0.87       195\n",
      "weighted avg       0.97      0.96      0.96       195\n",
      "\n"
     ]
    }
   ],
   "source": [
    "predictions = predict(X_test, tree)\n",
    "\n",
    "from sklearn.metrics import classification_report\n",
    "print(classification_report(y_test, predictions))"
   ]
  },
  {
   "cell_type": "code",
   "execution_count": null,
   "metadata": {},
   "outputs": [],
   "source": []
  }
 ],
 "metadata": {
  "kernelspec": {
   "display_name": "Python 3",
   "language": "python",
   "name": "python3"
  },
  "language_info": {
   "codemirror_mode": {
    "name": "ipython",
    "version": 3
   },
   "file_extension": ".py",
   "mimetype": "text/x-python",
   "name": "python",
   "nbconvert_exporter": "python",
   "pygments_lexer": "ipython3",
   "version": "3.7.4"
  }
 },
 "nbformat": 4,
 "nbformat_minor": 4
}
